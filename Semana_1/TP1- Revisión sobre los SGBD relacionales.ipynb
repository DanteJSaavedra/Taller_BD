{
 "cells": [
  {
   "cell_type": "markdown",
   "metadata": {},
   "source": [
    "# TP1- Revision sobre los SGBD relacionales"
   ]
  },
  {
   "cell_type": "markdown",
   "metadata": {},
   "source": [
    "Para revisar algunos conceptos de los SGBD relacionales (en particular el modelo relacional y el lenguaje SQL), vamos a crear una pequeña Base de Datos relacional desde un programa en Python y a partir de datos que se encuentran en varios archivos textos.\n",
    "\n",
    "La base de datos que queremos construir está representada por el modelo Entidad-Asociación siguiente:"
   ]
  },
  {
   "cell_type": "markdown",
   "metadata": {},
   "source": [
    "<img src=\"modeloEA-1.png\">"
   ]
  },
  {
   "cell_type": "markdown",
   "metadata": {},
   "source": [
    "## 1. Transformación del Modelo Entidad-Asociación hacia Modelo Relacional\n",
    "\n",
    "Proponer un modelo relacional que corresponde al modelo Entidad-Asociación."
   ]
  },
  {
   "cell_type": "markdown",
   "metadata": {},
   "source": [
    "medios_prensas(pk_nombre, dueno, numero_followers)\n",
    "\n",
    "noticias(id_noticia, titulo, texto, #pk_nombre, fecha)"
   ]
  },
  {
   "cell_type": "markdown",
   "metadata": {},
   "source": [
    "## 2. Crear la estructura de la base de datos desde un programa Python"
   ]
  },
  {
   "cell_type": "markdown",
   "metadata": {},
   "source": [
    "### 2.1 Conectarse a MySQL desde Python"
   ]
  },
  {
   "cell_type": "code",
   "execution_count": 1,
   "metadata": {
    "scrolled": true
   },
   "outputs": [
    {
     "name": "stdout",
     "output_type": "stream",
     "text": [
      "conectado\n"
     ]
    }
   ],
   "source": [
    "#!/usr/bin/env python\n",
    "# -*- coding: utf-8 -*-\n",
    "from __future__ import print_function\n",
    "import mysql.connector\n",
    "from mysql.connector import errorcode\n",
    "\n",
    "conexion = mysql.connector.connect(user='root', password='root',host='localhost')\n",
    "if(conexion):\n",
    "    print(\"conectado\")\n",
    "else:\n",
    "    print(\"No conectado\")\n",
    "cursor = conexion.cursor()"
   ]
  },
  {
   "cell_type": "markdown",
   "metadata": {},
   "source": [
    "### 2.2 Crear las tablas"
   ]
  },
  {
   "cell_type": "code",
   "execution_count": 2,
   "metadata": {},
   "outputs": [
    {
     "name": "stdout",
     "output_type": "stream",
     "text": [
      "Las tablas ya han sido creadas\n"
     ]
    }
   ],
   "source": [
    "TABLES = {}\n",
    "DB_NAME = \"medios_de_prensa\"\n",
    "TABLES['medios_prensas'] = (\n",
    "    \"CREATE TABLE `medios_prensas` (\"\n",
    "    \"  `nombre` VARCHAR(255) NOT NULL,\"\n",
    "    \"  `dueno` VARCHAR(255)  NOT NULL,\"\n",
    "    \"  `numero_followers` INT NOT NULL,\"\n",
    "    \"  PRIMARY KEY (`nombre`)\"\n",
    "    \") ENGINE=InnoDB\")\n",
    "TABLES['noticias'] = (\n",
    "    \"CREATE TABLE `noticias` (\"\n",
    "    \"  `id_noticia` INT NOT NULL AUTO_INCREMENt,\"\n",
    "    \"  `titulo` VARCHAR(255) NOT NULL,\"\n",
    "    \"  `texto` TEXT NOT NULL,\"\n",
    "    \"  `ref_prensa` VARCHAR(255) NOT NULL,\"\n",
    "    \"  `fecha` VARCHAR(255) NOT NULL,\"\n",
    "    \"   PRIMARY KEY (`id_noticia`)\"\n",
    "    \") ENGINE=InnoDB\")\n",
    "\n",
    "def create_database(cursor):\n",
    "    try:\n",
    "        cursor.execute(\n",
    "            \"CREATE DATABASE {} DEFAULT CHARACTER SET 'utf8'\".format(DB_NAME))\n",
    "    except mysql.connector.Error as err:\n",
    "        print(\"No se pudo conectar la base de datos: {}\".format(err))\n",
    "        exit(1)\n",
    "\n",
    "try:\n",
    "    conexion.database = DB_NAME  \n",
    "except mysql.connector.Error as err:\n",
    "    if err.errno == errorcode.ER_BAD_DB_ERROR:\n",
    "        create_database(cursor)\n",
    "        conexion.database = DB_NAME\n",
    "    else:\n",
    "        print(err)\n",
    "\n",
    "try:\n",
    "    cursor.execute(TABLES['medios_prensas'])\n",
    "    cursor.execute(TABLES['noticias'])\n",
    "except mysql.connector.Error as err:\n",
    "    if err.errno == errorcode.ER_TABLE_EXISTS_ERROR:\n",
    "        print(\"Las tablas ya han sido creadas\")\n",
    "    else:\n",
    "        print(err.msg)\n",
    "else:\n",
    "    print(\"Tablas creadas con exito\")       \n"
   ]
  },
  {
   "cell_type": "markdown",
   "metadata": {},
   "source": [
    "# 3. Insertar los datos en la base de datos"
   ]
  },
  {
   "cell_type": "markdown",
   "metadata": {},
   "source": [
    "## 3.1 Leer los archivos textos"
   ]
  },
  {
   "cell_type": "code",
   "execution_count": null,
   "metadata": {},
   "outputs": [],
   "source": [
    "#!/usr/bin/env python\n",
    "# -*- coding: utf-8 -*-\n",
    "import csv\n",
    "\n",
    "with open('medios.csv') as csvarchivo:\n",
    "    entrada = csv.DictReader(csvarchivo)\n",
    "    for elementos in entrada:\n",
    "        print(elementos['CódigoMedio'], \" \\t \" ,elementos['PropiedadLegal'], \" \\t \",elementos['FollowersFinAño'])"
   ]
  },
  {
   "cell_type": "markdown",
   "metadata": {},
   "source": [
    "## 3.2 Leer los archivos textos y insertar los datos"
   ]
  },
  {
   "cell_type": "code",
   "execution_count": null,
   "metadata": {},
   "outputs": [],
   "source": [
    "#!/usr/bin/env python\n",
    "# -*- coding: utf-8 -*-\n",
    "\"\"\"\n",
    "with open('medios.csv') as csvarchivo:\n",
    "    entrada = csv.DictReader(csvarchivo)\n",
    "    for reg in entrada:\n",
    "        nombre=reg['CódigoMedio']\n",
    "        dueno=reg['PropiedadLegal']\n",
    "        numero_followers=reg['FollowersFinAño']\n",
    "        cursor.execute(\"INSERT INTO medios_prensas (nombre, dueno, numero_followers) VALUES (%s, %s, %s)\",(nombre,dueno,numero_followers))\n",
    "    conexion.commit()\n",
    "\n",
    "archivo = open(\"noticias.txt\")\n",
    "\"\"\"\n",
    "datos = []\n",
    "for linea in archivo.readlines(): \n",
    "    datos.append(linea) \n",
    "for i in range (0,int((len(datos)/5))):\n",
    "    fecha = datos[5*i]\n",
    "    ref_prensa = datos[5*i+1]\n",
    "    titulo = datos [5*i+2]\n",
    "    texto = datos [5*i+3]\n",
    "    cursor.execute(\"INSERT INTO noticias (titulo, fecha, ref_prensa, texto) VALUES (%s, %s, %s, %s)\",(titulo, fecha, ref_prensa, texto))\n",
    "conexion.commit()\n",
    "archivo.close() \n",
    "\n",
    "\n"
   ]
  },
  {
   "cell_type": "markdown",
   "metadata": {},
   "source": [
    "# 4. Consultar la base de datos"
   ]
  },
  {
   "cell_type": "markdown",
   "metadata": {},
   "source": [
    "Listar los medios de prensa en Chile ordenado según su número de followers en Twitter."
   ]
  },
  {
   "cell_type": "code",
   "execution_count": null,
   "metadata": {},
   "outputs": [],
   "source": [
    "\n",
    "consulta = (\"SELECT nombre, numero_followers FROM medios_prensas ORDER BY numero_followers DESC\")\n",
    "cursor.execute(consulta)\n",
    "\n",
    "for (dato) in cursor:\n",
    "  print(dato)\n"
   ]
  },
  {
   "cell_type": "raw",
   "metadata": {},
   "source": [
    "Contar los dueños de medios de prensa en Chile."
   ]
  },
  {
   "cell_type": "code",
   "execution_count": 16,
   "metadata": {},
   "outputs": [
    {
     "name": "stdout",
     "output_type": "stream",
     "text": [
      "(158,)\n"
     ]
    }
   ],
   "source": [
    "consulta = (\"SELECT COUNT(*) FROM (SELECT COUNT(dueno)FROM medios_prensas GROUP BY dueno) AS num\")\n",
    "cursor.execute(consulta)\n",
    "\n",
    "for (nombre) in cursor:\n",
    "  print(nombre)"
   ]
  },
  {
   "cell_type": "markdown",
   "metadata": {},
   "source": [
    "Contar cuantes medios de prensa posee cada dueño."
   ]
  },
  {
   "cell_type": "code",
   "execution_count": 12,
   "metadata": {},
   "outputs": [
    {
     "name": "stdout",
     "output_type": "stream",
     "text": [
      "(1, 'Aconcagua News')\n",
      "(1, 'Agencia Uno')\n",
      "(1, 'Albavisión (MX)')\n",
      "(1, 'Araucanía Noticias')\n",
      "(1, 'AraucaníaTV')\n",
      "(1, 'Benjamín González')\n",
      "(1, 'Betazeta Networks S.A.')\n",
      "(2, 'Bethia')\n",
      "(1, 'BIO-BIO comunicaciones')\n",
      "(1, 'Biobio Comunicaciones')\n",
      "(1, 'BS Comunicaciones')\n",
      "(1, 'Carta Abierta')\n",
      "(1, 'Cauquenes NET')\n",
      "(1, \"Centro Cultural de Comunicación y Educación Radiofónica ''Chasqui''\")\n",
      "(1, 'CEPT Comunicaciones')\n",
      "(1, 'Chañarcillo')\n",
      "(1, 'Chillan Activo')\n",
      "(1, 'Chillan Noticias')\n",
      "(1, 'Chiloe Al día')\n",
      "(1, 'Clave9')\n",
      "(1, 'Colectivo de Comunicacion Mapuche Mapuexpress')\n",
      "(1, 'Compañía Chilena de Comunicaciones')\n",
      "(1, 'Compañía de Radio y TV Nuevo Mundo S.A')\n",
      "(1, 'Comunicaciones C Y V S A ')\n",
      "(1, 'Comunidad Sitio Cero')\n",
      "(1, 'Consorcio Periodístico El Epicentro S.A')\n",
      "(1, 'Consorcio Periodístico El Norte SpA')\n",
      "(1, 'CoolTV')\n",
      "(1, 'Diario El Sur S.A')\n",
      "(1, 'Diario El Sur S.A.')\n",
      "(1, 'Diario ELDIA')\n",
      "(1, 'Diario en Acción')\n",
      "(1, 'Diario Naciemiento')\n",
      "(1, 'Dichato al Dia')\n",
      "(1, 'Ediciones Giro País SpA')\n",
      "(1, 'Ediciones Punto Final')\n",
      "(1, 'Ediciones y Publicaciones Bobby S.A. ')\n",
      "(1, 'Ediciones y Publicaciones El Buen Aire S.A.')\n",
      "(1, 'Editorial Gestion')\n",
      "(1, 'Editorial Tiempo Presente Ltda.')\n",
      "(1, 'Eduardo Mardones')\n",
      "(1, 'El Aconcagua')\n",
      "(1, 'El bulnesino')\n",
      "(1, 'El cauquenino')\n",
      "(1, 'El Chelenko Comunicaciones')\n",
      "(1, 'El Definido')\n",
      "(1, 'EL DIARIO DE AYSEN S.A')\n",
      "(1, 'El Divisadero')\n",
      "(27, 'El Mercurio S.A.P')\n",
      "(20, 'El Mercurio S.A.P.')\n",
      "(1, 'El Periodico')\n",
      "(1, 'El Periodista S.A')\n",
      "(1, 'El Ranco')\n",
      "(1, 'El sol de Iquique')\n",
      "(1, 'El Tipógrafo SPA')\n",
      "(1, 'El Trabajo')\n",
      "(1, 'Elyon Comunicaciones')\n",
      "(1, 'Empresa de Publicaciones La Prensa Austral S.A.')\n",
      "(1, 'Empresa Periodística Bío-Bío Ltda.')\n",
      "(1, 'Empresa Periodística Curicó Ltda.')\n",
      "(1, 'Empresa Periodística El Centro S.A.')\n",
      "(1, 'Empresa Periodística El Observador Ltda')\n",
      "(2, 'Empresa Periodística La Nación S.A.')\n",
      "(1, 'En linea maule')\n",
      "(1, 'Estación 1')\n",
      "(6, 'Estado Chileno')\n",
      "(1, 'FM Pulso')\n",
      "(1, 'Francisco Pérez')\n",
      "(1, 'Fundacion CIPER- Grupo Copesa')\n",
      "(1, 'Fundacion Democracia y Desarrollo')\n",
      "(1, 'Fundación Presidente Allende')\n",
      "(1, 'Fundación Radio Estrella del Mar')\n",
      "(1, 'Giro visual')\n",
      "(1, 'Grupo Canal 13')\n",
      "(2, 'Grupo Claro')\n",
      "(10, 'Grupo Copesa')\n",
      "(1, 'Grupo Diario Sur')\n",
      "(1, 'Grupo Editorial Editec')\n",
      "(2, 'Grupo Luksic')\n",
      "(15, 'Grupo Mi Voz Red de Diarios Ciudadanos')\n",
      "(1, 'Grupo Mochiatti')\n",
      "(1, 'Grupo Mosciatti')\n",
      "(1, 'Grupo Prisa España')\n",
      "(1, 'Holding Octava Comunicaciones S.A.')\n",
      "(3, 'Ibero Americana Radio Chile')\n",
      "(1, 'Ilustre municipalidad de Osorno')\n",
      "(1, 'Inet TV')\n",
      "(1, 'InfoMariquina')\n",
      "(1, 'Inversiones y Publicaciones Comunidades Ciudadanas S. A.')\n",
      "(1, 'Inversiones y Publicaciones Comunidades Ciudadanas S.A.')\n",
      "(1, 'Iquique Radio')\n",
      "(1, 'ITV Patagonia Ltda.')\n",
      "(1, 'La 7')\n",
      "(1, 'La Discusión SA')\n",
      "(1, 'La Plaza S.A.')\n",
      "(1, 'La Serena Online')\n",
      "(1, 'La Voz de Maipú')\n",
      "(1, 'Medios de Television Contivision Limitada')\n",
      "(13, 'Merelec SpA ')\n",
      "(4, 'Metro International')\n",
      "(1, 'Microsoft Corporation. ')\n",
      "(1, 'Miguel Nasur')\n",
      "(4, 'N.E')\n",
      "(1, 'N.E.')\n",
      "(1, 'NOL Periodico')\n",
      "(1, 'Noticias Los Rios')\n",
      "(1, 'Núcleo de emisoras Paloma')\n",
      "(1, 'Obispado de Chillan')\n",
      "(1, 'Obispado Osorno?')\n",
      "(1, 'opal press')\n",
      "(1, 'OPEN GROUP COMUNICACIONES LTDA.')\n",
      "(1, 'Organización Comercial Radio Polar Ltda.')\n",
      "(1, 'Panguipulli Noticias')\n",
      "(1, 'Parroquia San José')\n",
      "(1, 'Partido Comunista de Chile')\n",
      "(1, 'Patagonica Publicaciones S.A.')\n",
      "(1, 'Pedro Cayuqueo, Enama')\n",
      "(1, 'Penquista')\n",
      "(1, 'Pontificia Universidad Católica de Valparaiso')\n",
      "(1, 'Prensa Chiloe')\n",
      "(1, 'Prensa Mariquina')\n",
      "(1, 'Producciones y Asesorías Gou Infotaiment Limitada')\n",
      "(1, 'Putaendo Informa')\n",
      "(1, 'Radio Cauquenes')\n",
      "(1, 'Radio Máxima')\n",
      "(1, 'Radio Quellon')\n",
      "(2, 'Red de Diarios Comunales')\n",
      "(11, 'Red de Diarios Comunales Sociedad Limitada')\n",
      "(3, 'Red de Diarios Comunales Sociedad Limitada\\xa0.')\n",
      "(1, 'Red de Emisoras Madripo')\n",
      "(1, 'Red de medios de comunicación digital Portales Regionales')\n",
      "(1, 'Resumen')\n",
      "(1, 'Rioenlinea')\n",
      "(1, 'Rodrigo Vidal')\n",
      "(1, 'Sociedad Agrícola y Ganadera de Osorno')\n",
      "(1, 'Sociedad Coronado y Sierpe LTDA.')\n",
      "(1, 'Sociedad de Comunicaciones Salto del Soldado Ltda')\n",
      "(1, 'Sociedad de Inversiones Vaccaro Collao e Hijos Ltda.')\n",
      "(1, 'Sociedad de Radio y Publicidad San Antonio Ltda.')\n",
      "(1, 'Sociedad Nacional de Agricultura')\n",
      "(1, 'SOCIEDAD PERIODÍSTICA BANIC Y LANCELLOTTI LTDA')\n",
      "(1, 'Sociedad Periodística Cambio S.A.')\n",
      "(1, 'Sociedad periodistica Crónica noticias SPA')\n",
      "(1, 'Sociedad Periodística El Ciudadano')\n",
      "(1, 'Sociedad Periodistica El Libero S.A.')\n",
      "(1, 'Sociedad René Salinas Palacios')\n",
      "(1, 'Sociedad sonido sur')\n",
      "(1, 'Terra Networks Chile S.A.')\n",
      "(4, 'Time Warner')\n",
      "(1, 'Trayectos Agencia de Comunicaciones Ltda')\n",
      "(1, 'Tv maulinos')\n",
      "(1, 'UdeC - Grupo Copesa')\n",
      "(1, 'Universidad de Chile')\n",
      "(1, 'Velásquez Hnos. y Cía. Ltda.')\n",
      "(1, 'Verdad Ahora')\n",
      "(1, 'Vértice Comunicaciones')\n",
      "(1, 'Vivimos la noticia')\n",
      "(1, 'Vocación-Comunitaria')\n"
     ]
    }
   ],
   "source": [
    "consulta = (\"SELECT COUNT(nombre) AS valor, dueno FROM medios_prensas GROUP BY dueno\")\n",
    "cursor.execute(consulta)\n",
    "\n",
    "for (nombre) in cursor:\n",
    "  print(nombre)"
   ]
  },
  {
   "cell_type": "markdown",
   "metadata": {},
   "source": [
    "Mostrar los últimos 10 títulos de noticias del medio \"La Tercera\""
   ]
  },
  {
   "cell_type": "code",
   "execution_count": 10,
   "metadata": {},
   "outputs": [],
   "source": [
    "consulta = (\"SELECT titulo FROM noticias WHERE ref_prensa LIKE'La Tercera' LIMIT 10 \")\n",
    "cursor.execute(consulta)\n",
    "\n",
    "for (nombre) in cursor:\n",
    "  print(nombre)"
   ]
  },
  {
   "cell_type": "markdown",
   "metadata": {},
   "source": [
    "Mostrar los nombre de medios y los títulos en los cuales aparacen la palabra \"Valdivia\"."
   ]
  },
  {
   "cell_type": "code",
   "execution_count": null,
   "metadata": {},
   "outputs": [],
   "source": [
    "consulta = (\"SELECT titulo, ref_prensa FROM noticias WHERE titulo LIKE '%Valdivia%' OR texto LIKE '%Valdivia%'\")\n",
    "cursor.execute(consulta)\n",
    "\n",
    "for (nombre) in cursor:\n",
    "  print(nombre)\n"
   ]
  },
  {
   "cell_type": "markdown",
   "metadata": {},
   "source": [
    "Por cada medio, mostrar el número de títulos en los cuales aparecen la palabra \"Puerto Montt\"."
   ]
  },
  {
   "cell_type": "code",
   "execution_count": 8,
   "metadata": {},
   "outputs": [
    {
     "name": "stdout",
     "output_type": "stream",
     "text": [
      "('24HorasTVN\\n', 4)\n",
      "('adnradiochile\\n', 8)\n",
      "('biobio\\n', 40)\n",
      "('CNNChile\\n', 2)\n",
      "('TerraChile\\n', 2)\n",
      "('thecliniccl\\n', 2)\n"
     ]
    }
   ],
   "source": [
    "consulta = (\"SELECT ref_prensa, COUNT(titulo) FROM noticias WHERE titulo LIKE '%Puerto Montt%' GROUP BY ref_prensa\")\n",
    "cursor.execute(consulta)\n",
    "\n",
    "for (nombre) in cursor:\n",
    "  print(nombre)"
   ]
  },
  {
   "cell_type": "code",
   "execution_count": null,
   "metadata": {},
   "outputs": [],
   "source": []
  }
 ],
 "metadata": {
  "kernelspec": {
   "display_name": "Python 3",
   "language": "python",
   "name": "python3"
  },
  "language_info": {
   "codemirror_mode": {
    "name": "ipython",
    "version": 3
   },
   "file_extension": ".py",
   "mimetype": "text/x-python",
   "name": "python",
   "nbconvert_exporter": "python",
   "pygments_lexer": "ipython3",
   "version": "3.5.2"
  }
 },
 "nbformat": 4,
 "nbformat_minor": 2
}
