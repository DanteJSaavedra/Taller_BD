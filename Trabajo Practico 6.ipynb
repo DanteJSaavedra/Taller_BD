{
 "cells": [
  {
   "cell_type": "markdown",
   "metadata": {},
   "source": [
    "# Trabajo Práctico 6\n",
    "### Dante Saavedra"
   ]
  },
  {
   "cell_type": "markdown",
   "metadata": {},
   "source": [
    "### Nota: \n",
    "Descargar Fichero paises.json "
   ]
  },
  {
   "cell_type": "markdown",
   "metadata": {},
   "source": [
    "#### Importar Libreria"
   ]
  },
  {
   "cell_type": "code",
   "execution_count": null,
   "metadata": {},
   "outputs": [],
   "source": [
    "from neo4jrestclient.client import GraphDatabase\n",
    "from neo4jrestclient import client\n",
    "import pandas as pd"
   ]
  },
  {
   "cell_type": "markdown",
   "metadata": {},
   "source": [
    "### Conectarse a la neo4j"
   ]
  },
  {
   "cell_type": "code",
   "execution_count": null,
   "metadata": {},
   "outputs": [],
   "source": [
    "db = GraphDatabase(\"http://localhost:7474\", username=\"neo4j\", password=\"root\")"
   ]
  },
  {
   "cell_type": "markdown",
   "metadata": {},
   "source": [
    "### Cargar Datos a Neo4j"
   ]
  },
  {
   "cell_type": "markdown",
   "metadata": {},
   "source": [
    "#### Lectura de fichero json con la información"
   ]
  },
  {
   "cell_type": "code",
   "execution_count": null,
   "metadata": {},
   "outputs": [],
   "source": [
    "datos = pd.read_json(\"paises.json\")"
   ]
  },
  {
   "cell_type": "markdown",
   "metadata": {},
   "source": [
    "#### Cargar los continentes"
   ]
  },
  {
   "cell_type": "code",
   "execution_count": null,
   "metadata": {},
   "outputs": [],
   "source": [
    "continentes = datos['continent'].unique().tolist()\n",
    "continentesGraph = []\n",
    "continentesNeo = db.labels.create(\"Continente\")\n",
    "for c in range(len(continentes)):\n",
    "    continentesGraph.append(db.nodes.create(name=continentes[c]))\n",
    "    continentesNeo.add(continentesGraph[c])"
   ]
  },
  {
   "cell_type": "markdown",
   "metadata": {},
   "source": [
    "#### Cargar los paises y crear relación a su continente"
   ]
  },
  {
   "cell_type": "code",
   "execution_count": null,
   "metadata": {},
   "outputs": [],
   "source": [
    "paisesGraph = []\n",
    "paisesNeo = db.labels.create(\"Pais\")\n",
    "for p in range(len(datos)):\n",
    "    paisesGraph.append(db.nodes.create(name=datos.iloc[p].country))\n",
    "    paisesNeo.add(paisesGraph[p])\n",
    "    iContinent = continentes.index(datos.iloc[p].continent)\n",
    "    paisesGraph[p].relationships.create(\"Pertenece\", continentesGraph[iContinent])"
   ]
  },
  {
   "cell_type": "markdown",
   "metadata": {},
   "source": [
    "### Realizar consulta de que paises y sus relaciones"
   ]
  },
  {
   "cell_type": "code",
   "execution_count": null,
   "metadata": {},
   "outputs": [],
   "source": [
    "q = 'MATCH (p:Pais)-[r:Pertenece]->(c:Continente) RETURN p,type(r),c'\n",
    "results = db.query(q, returns=(client.Node, str, client.Node))\n",
    "for r in results:\n",
    "    print(\"%s ---> %s ---> %s\" % (r[0][\"name\"], r[1], r[2][\"name\"]))"
   ]
  }
 ],
 "metadata": {
  "kernelspec": {
   "display_name": "Python 3",
   "language": "python",
   "name": "python3"
  },
  "language_info": {
   "codemirror_mode": {
    "name": "ipython",
    "version": 3
   },
   "file_extension": ".py",
   "mimetype": "text/x-python",
   "name": "python",
   "nbconvert_exporter": "python",
   "pygments_lexer": "ipython3",
   "version": "3.6.5"
  }
 },
 "nbformat": 4,
 "nbformat_minor": 2
}
