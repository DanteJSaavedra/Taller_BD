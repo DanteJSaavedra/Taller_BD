{
 "cells": [
  {
   "cell_type": "markdown",
   "metadata": {},
   "source": [
    "# TP2- Introducción al SGBD MongoDB y Conexión a la API Rest de Twitter"
   ]
  },
  {
   "cell_type": "markdown",
   "metadata": {},
   "source": [
    "En este trabajo práctico queremos descubrir las características del SGBD no relacional MongoDB. En este sentido, vamos a desarrollar un script que se conecta a la API Rest de Twitter para: 1) descargar datos al formato JSON, 2) almacenarlos en una base Mongo y 3) realizar algunas consultas sobre los datos."
   ]
  },
  {
   "cell_type": "markdown",
   "metadata": {},
   "source": [
    "## 1. Conectarse a la API Rest de Twitter"
   ]
  },
  {
   "cell_type": "markdown",
   "metadata": {},
   "source": [
    "- ¿Cómo crear una aplicación utilizando los datos de Twitter?: https://developer.twitter.com/en/docs/basics/getting-started\n",
    "- Crear una aplicación utilizando los datos de Twitter: https://apps.twitter.com/\n",
    "- ¿Qué deberían saber todos los desarrolladores antes de jugar con la API de twitter?: https://developer.twitter.com/en/docs/basics/things-every-developer-should-know"
   ]
  },
  {
   "cell_type": "code",
   "execution_count": 1,
   "metadata": {},
   "outputs": [],
   "source": [
    "from twython import Twython\n",
    "from pymongo import MongoClient\n",
    "\n",
    "APP_KEY = 'rXbK97bg6LvBpH9WqDJkqw10T'\n",
    "APP_SECRET = 'nRGOOhI3sCzsNMLpd5drXmHRAhvT9BOi9HN2vtCI3975CUZUHe'\n",
    "\n",
    "twitter = Twython(APP_KEY, APP_SECRET)\n",
    "\n",
    "OAUTH_TOKEN = '976279920279261184-f5RUiD4PRLmOzVQV8FzfXJ827bKwLvI'\n",
    "OAUTH_TOKEN_SECRET = 'sUk7XhsexQWJ6cmcu3cSs8YgBWYSvFBbjiMrazXTgpNs0'\n",
    "\n",
    "twitter = Twython(APP_KEY, APP_SECRET,OAUTH_TOKEN, OAUTH_TOKEN_SECRET)"
   ]
  },
  {
   "cell_type": "markdown",
   "metadata": {},
   "source": [
    "## 2. Consultar la API de Twitter"
   ]
  },
  {
   "cell_type": "markdown",
   "metadata": {},
   "source": [
    "- Utilizando una librería Python que permite enviar consultas HTTP a la API de Twitter, conectarse a un 'endpoint' de la API para leer datos. Ver la lista de los endpoints: https://developer.twitter.com/en/docs/tweets/post-and-engage/overview"
   ]
  },
  {
   "cell_type": "code",
   "execution_count": null,
   "metadata": {},
   "outputs": [],
   "source": [
    "resultados =twitter.search(q='Uach', count =10)\n",
    "print(len(resultados['statuses']))\n",
    "datos = []\n",
    "for i in range(0,len(resultados[\"statuses\"])):\n",
    "    texto = resultados[\"statuses\"][i][\"text\"]\n",
    "    fecha = resultados[\"statuses\"][i][\"created_at\"]\n",
    "    usuario = resultados[\"statuses\"][i][\"user\"][\"name\"]\n",
    "    localizacion = resultados[\"statuses\"][i][\"user\"][\"location\"]\n",
    "    gyzom = {\n",
    "        \"texto\": texto,\n",
    "        \"fecha\": fecha,\n",
    "        \"usuario\": usuario,\n",
    "        \"localizacion\": localizacion\n",
    "        }\n",
    "    datos.append(gyzom)\n",
    "\n",
    "print(datos)"
   ]
  },
  {
   "cell_type": "markdown",
   "metadata": {},
   "source": [
    "## 3. Conectarse al SGBD Mongo"
   ]
  },
  {
   "cell_type": "markdown",
   "metadata": {},
   "source": [
    "- Conectarse a Mongo desde Python utilizando la librería adecuada"
   ]
  },
  {
   "cell_type": "code",
   "execution_count": 5,
   "metadata": {},
   "outputs": [],
   "source": [
    "client = MongoClient()\n",
    "db = client.twitte\n",
    "coleccion = db.dataset"
   ]
  },
  {
   "cell_type": "markdown",
   "metadata": {},
   "source": [
    "## 4. Escribir datos de Twitter en una Base de Datos Mongo"
   ]
  },
  {
   "cell_type": "code",
   "execution_count": 16,
   "metadata": {
    "scrolled": false
   },
   "outputs": [
    {
     "name": "stdout",
     "output_type": "stream",
     "text": [
      "{'fecha': 'Mon Apr 09 20:49:28 +0000 2018', 'usuario': 'Chapingo - Oficial', 'localizacion': 'Texcoco, Estado de México', '_id': ObjectId('5acbd6fbd3ca15105379ce71'), 'texto': 'https://t.co/Qydd5Xz8FH'}\n",
      "{'fecha': 'Mon Apr 09 20:43:03 +0000 2018', 'usuario': 'Chapingo - Oficial', 'localizacion': 'Texcoco, Estado de México', '_id': ObjectId('5acbd6fbd3ca15105379ce72'), 'texto': 'https://t.co/sOXfjkXWmT'}\n",
      "{'fecha': 'Mon Apr 09 20:19:50 +0000 2018', 'usuario': 'Chapingo - Oficial', 'localizacion': 'Texcoco, Estado de México', '_id': ObjectId('5acbd6fbd3ca15105379ce73'), 'texto': 'https://t.co/aUAzddiVZe'}\n"
     ]
    }
   ],
   "source": [
    "posts = db.posts\n",
    "for i in range (0,len(datos)):\n",
    "   post_id =posts.insert_one(datos[i])\n",
    "\n"
   ]
  },
  {
   "cell_type": "markdown",
   "metadata": {},
   "source": [
    "# Parte I: Desde su notebook realizar las siguientes consultas"
   ]
  },
  {
   "cell_type": "markdown",
   "metadata": {},
   "source": [
    "## 1. Mostrar los documentos de su colección mostrando solamente el campo \"location\"."
   ]
  },
  {
   "cell_type": "code",
   "execution_count": 27,
   "metadata": {
    "scrolled": true
   },
   "outputs": [
    {
     "name": "stdout",
     "output_type": "stream",
     "text": [
      "{'localizacion': 'Valdivia'}\n",
      "{'localizacion': 'Valdivia, Chile'}\n",
      "{'localizacion': ''}\n",
      "{'localizacion': 'Valdivia, Chile.'}\n",
      "{'localizacion': 'Texcoco, Estado de México'}\n",
      "{'localizacion': 'Texcoco, Estado de México'}\n",
      "{'localizacion': 'Texcoco, Estado de México'}\n",
      "{'localizacion': 'Región de Los Ríos, Chile'}\n",
      "{'localizacion': 'Temuco'}\n",
      "{'localizacion': 'Valdilluvia - Chile'}\n"
     ]
    }
   ],
   "source": [
    "localizaciones =posts.find({},{'localizacion':1, '_id':0})\n",
    "for dato in localizaciones:\n",
    "    print(dato)"
   ]
  },
  {
   "cell_type": "markdown",
   "metadata": {},
   "source": [
    "## 2. Mostrar los tweets que contienen la palabra \"Uach\""
   ]
  },
  {
   "cell_type": "code",
   "execution_count": 28,
   "metadata": {},
   "outputs": [],
   "source": [
    "for c in cursor:\n",
    "    print "
   ]
  },
  {
   "cell_type": "markdown",
   "metadata": {},
   "source": [
    "## 3. Contar el número de tweet por username"
   ]
  },
  {
   "cell_type": "code",
   "execution_count": 30,
   "metadata": {},
   "outputs": [
    {
     "ename": "AttributeError",
     "evalue": "'dict' object has no attribute 'count'",
     "output_type": "error",
     "traceback": [
      "\u001b[0;31m---------------------------------------------------------------------------\u001b[0m",
      "\u001b[0;31mAttributeError\u001b[0m                            Traceback (most recent call last)",
      "\u001b[0;32m<ipython-input-30-5dc6c48c617c>\u001b[0m in \u001b[0;36m<module>\u001b[0;34m()\u001b[0m\n\u001b[0;32m----> 1\u001b[0;31m \u001b[0mntweet\u001b[0m \u001b[0;34m=\u001b[0m \u001b[0mposts\u001b[0m\u001b[0;34m.\u001b[0m\u001b[0mfind\u001b[0m\u001b[0;34m(\u001b[0m\u001b[0;34m{\u001b[0m\u001b[0;34m}\u001b[0m\u001b[0;34m,\u001b[0m\u001b[0;34m{\u001b[0m\u001b[0;34m'nombre'\u001b[0m\u001b[0;34m:\u001b[0m\u001b[0;36m1\u001b[0m\u001b[0;34m}\u001b[0m\u001b[0;34m.\u001b[0m\u001b[0mcount\u001b[0m\u001b[0;34m(\u001b[0m\u001b[0;34m)\u001b[0m\u001b[0;34m)\u001b[0m\u001b[0;34m\u001b[0m\u001b[0m\n\u001b[0m\u001b[1;32m      2\u001b[0m \u001b[0;32mfor\u001b[0m \u001b[0mdato\u001b[0m \u001b[0;32min\u001b[0m \u001b[0mntweet\u001b[0m\u001b[0;34m:\u001b[0m\u001b[0;34m\u001b[0m\u001b[0m\n\u001b[1;32m      3\u001b[0m     \u001b[0mprint\u001b[0m\u001b[0;34m(\u001b[0m\u001b[0mdato\u001b[0m\u001b[0;34m)\u001b[0m\u001b[0;34m\u001b[0m\u001b[0m\n",
      "\u001b[0;31mAttributeError\u001b[0m: 'dict' object has no attribute 'count'"
     ]
    }
   ],
   "source": [
    "ntweet = posts.find({},{'nombre':1}).count()\n",
    "for dato in ntweet:\n",
    "    print(dato)"
   ]
  },
  {
   "cell_type": "code",
   "execution_count": null,
   "metadata": {},
   "outputs": [],
   "source": []
  }
 ],
 "metadata": {
  "kernelspec": {
   "display_name": "Python 3",
   "language": "python",
   "name": "python3"
  },
  "language_info": {
   "codemirror_mode": {
    "name": "ipython",
    "version": 3
   },
   "file_extension": ".py",
   "mimetype": "text/x-python",
   "name": "python",
   "nbconvert_exporter": "python",
   "pygments_lexer": "ipython3",
   "version": "3.5.2"
  }
 },
 "nbformat": 4,
 "nbformat_minor": 2
}
