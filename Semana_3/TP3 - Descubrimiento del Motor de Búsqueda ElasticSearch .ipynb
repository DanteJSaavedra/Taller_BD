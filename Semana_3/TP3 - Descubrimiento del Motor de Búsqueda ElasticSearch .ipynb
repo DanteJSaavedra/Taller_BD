{
 "cells": [
  {
   "cell_type": "markdown",
   "metadata": {},
   "source": [
    "# TP3- Descubrimiento del Motor de Búsqueda ElasticSearch"
   ]
  },
  {
   "cell_type": "markdown",
   "metadata": {},
   "source": [
    "## 1) Preguntas:\n",
    "\n",
    "1.1 ¿ElasticSearch es un SGBD de nueva generación? Qué es un motor de búsqueda?\n",
    "\n",
    "1.2 ¿Cuáles son sus principales caracteristicas? ¿Qué modelo lógico de datos utiliza?\n",
    "\n",
    "1.3 ¿Cuáles son los puntos similares y las diferencias con el SGBD Mongo?\n",
    "\n",
    "1.4 ¿Cuál es la fecha de su primera versión? ¿Cuál es la frecuencia de aparación de nuevas versiones?\n",
    "\n",
    "1.5 ¿Cuál es su licencia? Cuáles son las principales caracteristicas de esta licencia?\n",
    "\n",
    "1.6 ¿Qué empresas o productos utilizan ElasticSearch? Cuáles son los casos de uso habituales?\n",
    "\n",
    "1.7 ¿Cuáles son los otros productos desarrollados en la organización Elastic?\n",
    "\n",
    "<b>Enlaces utiles</b>:\n",
    "\n",
    "https://www.elastic.co/products/elasticsearch\n",
    "\n",
    "https://en.wikipedia.org/wiki/Elasticsearch\n",
    "\n",
    "https://db-engines.com/en/ranking"
   ]
  },
  {
   "cell_type": "markdown",
   "metadata": {},
   "source": [
    "<b>1.1</b>\n",
    "    <ul>\n",
    "    <li>ElasticSearch si es un SGBD de nueva generación ya que ha sido creado hace un poco más de 4 años.</li>\n",
    "    <li>Un motor de busqueda es un sistema informático que busca archivos almacenados en servidores web.</li>\n",
    "    </ul>\n",
    "<b>1.2 </b>\n",
    "    <ul>\n",
    "    <li>Es un motor de busqueda de codigo libre los datos no tienen una estructura definida utiliza una API RESTFull</li>\n",
    "    <li>Motor de Busqueda</li>\n",
    "    </ul>\n",
    "<b>1.3</b>\n",
    "    <ul>\n",
    "    <li>Similitudes: Utiliza ficheros tipo Json, los datos no tienen esquema, es un SGBD de nueva generación</li>\n",
    "    <li>Diferencias: </li>\n",
    "    </ul>\n",
    "<b>1.4</b>\n",
    "    <ul>\n",
    "    <li>2010-02-08</li>\n",
    "    <li>Se renueva cada poco termino de la version 0 a la 1 demoro 4 años, de la version 1 a la 2 demoro 2 años, de la versión 2 a la 5 un par de meses, y de la versión 5 a la actual 2 años</li>\n",
    "    </ul>\n",
    "<b>1.5</b>\n",
    "    <ul>\n",
    "    <li>Apache 2.0</li>\n",
    "    <li></li>\n",
    "    </ul>\n",
    "<b>1.6</b>\n",
    "    <ul>\n",
    "    <li>Netflix,Ebay, Github, Wikipedia</li>\n",
    "    <li></li>\n",
    "    </ul>\n",
    "<b>1.7</b>\n",
    "    <ul>\n",
    "    <li>Kibana, Logstash, Beasts, X-pack, Cloud/ECE</li>\n",
    "    </ul>\n",
    "\n"
   ]
  },
  {
   "cell_type": "markdown",
   "metadata": {},
   "source": [
    "## 2) Instalar ElasticSearch\n",
    "\n",
    "2.1 Descargar e instalar ElasticSearch 6.2 (https://www.elastic.co/downloads/elasticsearch)\n",
    "\n",
    "2.2 Ejecutar ElasticSearch (bin/elasticsearch) con la configuración por defecto\n",
    "\n",
    "2.3 En un terminal, ejecutar el comando siguiente:\n",
    "\n",
    "curl -X GET \"http://localhost:9200/_cat/health?v\"\n",
    "\n",
    "De qué sirve el software CURL?\n",
    "Cuantos nodos y shards tiene su instalación de ElasticSearch? Cómo se llama su cluster?\n",
    "\n",
    "<b>Enlaces utiles:</b>\n",
    "\n",
    "https://www.elastic.co/guide/en/elasticsearch/reference/current/_cluster_health.html"
   ]
  },
  {
   "cell_type": "markdown",
   "metadata": {},
   "source": [
    "## 3) Operaciones CRUD básicas"
   ]
  },
  {
   "cell_type": "markdown",
   "metadata": {},
   "source": [
    "3.1 Listar los indices disponibles en el cluster\n",
    "curl -X GET \"localhost:9200/_cat/indices?v\"\n",
    "\n",
    "3.2 Seguir el \"Getting Started\" de la documentación de ElasticSearch a partir de la sección siguiente: https://www.elastic.co/guide/en/elasticsearch/reference/current/_list_all_indices.html"
   ]
  },
  {
   "cell_type": "markdown",
   "metadata": {},
   "source": [
    "## 4) Ejemplo de Aplicación en Python utilizando ElasticSearch\n",
    "Para ayudar la comunidad científica de la UACh, proponemos desarrollar un motor de búsqueda de los artículos científicos escritos por la comunidad UACh.\n",
    "\n",
    "4.1 Buscar en Internet (por ejemplo en el sitio \"Web Of Science\": http://apps.webofknowledge.com) algunos articulos científicos escritos por académicos de la UACh y copiar cada resumen de artículo en un archivo texto. "
   ]
  },
  {
   "cell_type": "code",
   "execution_count": null,
   "metadata": {},
   "outputs": [],
   "source": [
    "from datetime import datetime\n",
    "from elasticsearch import *\n",
    "es = Elasticsearch()"
   ]
  },
  {
   "cell_type": "markdown",
   "metadata": {},
   "source": [
    "4.2 Desde Python, conectarse a su cluster ElasticSearch y crear un indice \"articulo-uach\""
   ]
  },
  {
   "cell_type": "code",
   "execution_count": null,
   "metadata": {},
   "outputs": [],
   "source": [
    "es.indices.create(index='articulo-uach', ignore=400)"
   ]
  },
  {
   "cell_type": "markdown",
   "metadata": {},
   "source": [
    "4.3 Indexar los archivos textos recopilados con algunos metadatos adicionales"
   ]
  },
  {
   "cell_type": "code",
   "execution_count": null,
   "metadata": {},
   "outputs": [],
   "source": [
    "doc = [{\n",
    "    'id':'1',\n",
    "    'institucion': 'Universidad Austral de Chile',\n",
    "    'titulo':'Prevalence of cardiovascular risk factors in workers from Universidad Austral de Chile',\n",
    "    'investigador': 'Adela Martinez, Maria S, Maria Leiva, Ana O., Celis-Morales, Carlos',\n",
    "    'resumen':'Background: Cardiovascular diseases (CVDs) are the first cause of death worldwide. Latin American countries including Chile has experience an increment in the prevalence of risk factors for CVDs. Aim: To estimate the prevalence of cardiovascular risk factors in workers from Universidad Austral de Chile and to evaluate its relation with age and sex. Subjects and methods: This was a cross-sectional study conducted in 2012 in 258 participants (55% males). Lifestyle and socio-economic questionnaire were applied and anthropometric (body mass index and waist circumference) and metabolic markers (glucose, lipid profile, and blood pressure) were measured in all participants. Results: Overall, 31.8% were obese, 38.9% had central obesity, 31.6% had high total cholesterol, 45.2% had lower HDL cholesterol, 34.4% had higher triglycerides, 7.4% had diabetes, 29.6% had hypertension, 35.6% had metabolic syndrome and 23.6% were physically inactive. Conclusions: The study population shows a high prevalence of cardiovascular risk factors. These cardiovascular risk factors increase with age, however this increase did not differ by sex.',\n",
    "    'timestamp': datetime.now()\n",
    "},\n",
    "{\n",
    "    'id':'2',\n",
    "    'institucion': 'Universidad Austral de Chile',\n",
    "    'titulo':'Does the pre-flowering period determine the potential grain weight of sunflower?',\n",
    "    'investigador': 'Castillo, Francisca M. Vásquez, Santiago C., Calderini, Daniel F.',\n",
    "    'resumen': 'Grain weight (GW) is an important component of grain yield and quality of sunflower and the improvement of this trait has been proposed as an aim for breeding of this crop. There is strong evidence suggesting the pre-flowering period as key to determining GW in different crops; however, the key traits and mechanisms controlling GW during this phase are still largely unknown in sunflower. This study conducted a detailed survey of how the pre-flowering period determines grain growth dynamics by assessing the early developmental process during the growth of reproductive organs and the sensitivity of GW, grain number (GN) and grain oil concentration to different source sink manipulations immediately before flowering. Two experiments were carried out under field conditions in two growing seasons. In Exp. 1 two sunflower oilseed hybrids contrasting in GW (Alybro and SG) were sown at the Experimental Station of the Universidad Austral de Chile in Valdivia (39 degrees 47S, 73 degrees 14W), Chile. In Exp. 2, the same hybrids plus a confectionery genotype (RHA) were evaluated in the Experimental Station where two source sink treatments were performed: a control (without manipulation) and a shading treatment starting 16 days previous to anthesis, i.e. during the R2-R5 period. Crop development, average and individual GW, GN and oil concentration of grains were assessed at harvest. Also, flower and grain traits and their dynamics were measured from early reproductive stage (ovary at R3) to harvest in different grain positions from the capitulum (e.g., fresh and dry weight and dimensions of grains, pericarp and embryo and grain oil concentration). GW was significantly affected by genotype and shading treatments imposed at pre-anthesis, but no statistical effect of the lower source sink ratio was found on GN. Contrary to GW, grain oil of oilseed genotypes was highly conservative under the source sink reduction in our study. Positive associations were found between final GW and: ovary weight at R3, at anthesis (R5), ovary growth rate, grain dimensions and water content. Final GW also showed a linear association with ovary growth rate. This study is the first to evaluate the ovary weight from the early development stage and the ovary growth rate during the pre-anthesis period in sunflower and the effect of source reduction at pre-anthesis on grain oil concentration, supporting the importance of the maternal tissues on the setting of potential and actual GW in sunflower.',\n",
    "    'timestamp': datetime.now()\n",
    "},\n",
    "{\n",
    "    'id':'3',\n",
    "    'institucion': 'Universidad Austral de Chile',\n",
    "    'titulo':'A contribution to understanding the influence of concrete cracking on timber concrete composite bridge beams',\n",
    "    'investigador': 'Schanack, Frank, Ramon Ramos, Oscar, Osman, Juan Pablo, Oyarzun, Pablo',\n",
    "    'resumen': 'Despite of widely implemented advances in TCC bridge technology, there are still no satisfying design recommendations that consider the influence of concrete cracking on the distribution of forces and deformation. A research project at Universidad Austral de Chile studied several aspects of concrete cracking in TCC bridges with timber beams of greater depth than width using elastic dowel-type shear connectors. One of the results of concrete cracking is a reduction of the slip modulus of the connectors. This weakening was simulated in shear tests by a small gap between the timber and the concrete. A test calibrated FEM model was used for a parametric study of 120 different cases, most of which did not show concrete cracking. Where concrete cracking occurred, it caused an increase in the timber tensile stresses and beam deflection of up to 20 %. We conclude that concrete cracking occurs when the timber-concrete depth ratio is less than four times the cubic root of the effective flange width of the concrete slab.',\n",
    "    'timestamp': datetime.now()\n",
    "},\n",
    "{\n",
    "    'id':'4',\n",
    "    'institucion': 'Universidad Austral de Chile',\n",
    "    'titulo':'Sarcocystosis in wild red deer (Cervus elaphus) in Patagonia, Argentina',\n",
    "    'investigador': 'Elizabeth Chang Reissig, Gastón Moré, Adriana Massone, Francisco A. Uzal',\n",
    "    'resumen': 'Worldwinde, cervids are considered an important source of infection and dissemination of a wide variety of pathogens, both for farm animals and humans. Among this diseases is sarcosporidiosis, which is a parasitic disease caused by Sarcocystis spp. (Protozoa: Apicomplexa). Most frequent clinical signs are hemolytic anemia, weakness, weight loss and decrease of growth and some species of Sarcocystis might cause abortions. The clinical disease in ruminants is fairly rare but the infection is very frequent. Infections are accumulative and the parasite does not generate immunity in any of the hosts. Ovine sarcosporidiosis is a serious issue in the some regions of Chile due to the macrocysts located in the muscle which means condemnation of the whole carcass. Sarcocystis spp. has been widely reported in red deer and other cervid species but in Chile the situation remains unknown. Nowadays there is little to no evidence of Sarcocystis in foreign deer in Chile and there is only one report of the parasite on pudu. The main goal of this study is to demonstrate the presence of Sarcocystis spp. in myocardium of red deer and fallow deer in Chile, and confirm the presence of Sarcocystis spp. in pudu. All cervid cases from 1994 to 2013 of the Institute of Animal Pathology of the Universidad Austral de Chile were reviewed. The animals selected were those in which a myocardium sample was taken. From the histopathological samples observed, it was found that 5 of the 9 red deer, 1 of the 4 fallow deer and in 11 of the 23 pudu there were Sarcocystis cysts in the myocardium. This study represents the first record for Chile of Sarcocystis spp. in myocardium of red deer and fallow deer. Stablishing the red deer, fallow deer and pudu as hosts of Sarcocystis aids to have a better understanding of the parasite epidemiology in Chile and the role of wild and captive cervids in the maintenance and spread of these parasites.',\n",
    "    'timestamp': datetime.now()\n",
    "}]\n",
    "for i in range(len(doc)):\n",
    "    res = es.index(index=\"articulo-uach\", id = i+1 , doc_type=\"articulo\", body = doc[i] )"
   ]
  },
  {
   "cell_type": "markdown",
   "metadata": {
    "collapsed": true
   },
   "source": [
    "4.4 Consultas"
   ]
  },
  {
   "cell_type": "code",
   "execution_count": null,
   "metadata": {},
   "outputs": [],
   "source": [
    "res = es.search(index=\"articulo-uach\", body={\"query\": {\"match_all\": {}}})\n",
    "print(\"%d resultados:\" % res['hits']['total'])\n",
    "for hit in res['hits']['hits']:\n",
    "    print(\"%(timestamp)s %(titulo)s: %(investigador)s: %(institucion)s: %(resumen)s\" % hit[\"_source\"])"
   ]
  }
 ],
 "metadata": {
  "celltoolbar": "Raw Cell Format",
  "kernelspec": {
   "display_name": "Python 3",
   "language": "python",
   "name": "python3"
  },
  "language_info": {
   "codemirror_mode": {
    "name": "ipython",
    "version": 3
   },
   "file_extension": ".py",
   "mimetype": "text/x-python",
   "name": "python",
   "nbconvert_exporter": "python",
   "pygments_lexer": "ipython3",
   "version": "3.5.2"
  }
 },
 "nbformat": 4,
 "nbformat_minor": 2
}
